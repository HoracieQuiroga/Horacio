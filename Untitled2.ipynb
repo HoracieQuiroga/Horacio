{
  "nbformat": 4,
  "nbformat_minor": 0,
  "metadata": {
    "colab": {
      "name": "Untitled2.ipynb",
      "provenance": [],
      "authorship_tag": "ABX9TyPyvmMvte7B2AF3kd8Wf6AA",
      "include_colab_link": true
    },
    "kernelspec": {
      "name": "python3",
      "display_name": "Python 3"
    },
    "language_info": {
      "name": "python"
    }
  },
  "cells": [
    {
      "cell_type": "markdown",
      "metadata": {
        "id": "view-in-github",
        "colab_type": "text"
      },
      "source": [
        "<a href=\"https://colab.research.google.com/github/HoracioeQuiroga/Horacio/blob/HoracioeQuiroga-patch-1222/Untitled2.ipynb\" target=\"_parent\"><img src=\"https://colab.research.google.com/assets/colab-badge.svg\" alt=\"Open In Colab\"/></a>"
      ]
    },
    {
      "cell_type": "code",
      "execution_count": 3,
      "metadata": {
        "id": "zEfFJlrMJny-"
      },
      "outputs": [],
      "source": [
        "def cociente_lista(lista):\n",
        "    res=[]\n",
        "    for _ in lista:\n",
        "        x=random.choice(lista)\n",
        "        y=random.choice(lista)\n",
        "        res.append(cociente([x,y]))\n",
        "    return res"
      ]
    }
  ]
}