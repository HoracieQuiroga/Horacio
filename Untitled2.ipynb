{
  "nbformat": 4,
  "nbformat_minor": 0,
  "metadata": {
    "colab": {
      "name": "Untitled2.ipynb",
      "provenance": [],
      "authorship_tag": "ABX9TyPGJpiwGRb1c4LMXBEHmGMv",
      "include_colab_link": true
    },
    "kernelspec": {
      "name": "python3",
      "display_name": "Python 3"
    },
    "language_info": {
      "name": "python"
    }
  },
  "cells": [
    {
      "cell_type": "markdown",
      "metadata": {
        "id": "view-in-github",
        "colab_type": "text"
      },
      "source": [
        "<a href=\"https://colab.research.google.com/github/HoracioeQuiroga/Horacio/blob/main-Horacio-I/Untitled2.ipynb\" target=\"_parent\"><img src=\"https://colab.research.google.com/assets/colab-badge.svg\" alt=\"Open In Colab\"/></a>"
      ]
    },
    {
      "cell_type": "code",
      "execution_count": 1,
      "metadata": {
        "id": "zEfFJlrMJny-"
      },
      "outputs": [],
      "source": [
        "def cociente_lista(lista):\n",
        "    res=[]\n",
        "    for _ in lista:\n",
        "        x=random.choice(lista)\n",
        "        y=random.choice(lista)\n",
        "        res.append(cociente([x,y]))\n",
        "    return res"
      ]
    },
    {
      "cell_type": "code",
      "source": [
        "!git commit -A"
      ],
      "metadata": {
        "colab": {
          "base_uri": "https://localhost:8080/"
        },
        "id": "Ri_4Yl1FJv46",
        "outputId": "aaab8f84-38a4-4574-c25d-6c2a665a6ef1"
      },
      "execution_count": 2,
      "outputs": [
        {
          "output_type": "stream",
          "name": "stdout",
          "text": [
            "fatal: not a git repository (or any of the parent directories): .git\n"
          ]
        }
      ]
    }
  ]
}